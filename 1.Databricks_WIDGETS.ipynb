{
 "cells": [
  {
   "cell_type": "code",
   "execution_count": 0,
   "metadata": {
    "application/vnd.databricks.v1+cell": {
     "cellMetadata": {},
     "inputWidgets": {},
     "nuid": "03af572a-d87b-4f76-b6fa-f334461d05be",
     "showTitle": false,
     "title": ""
    }
   },
   "outputs": [],
   "source": [
    "dbutils.widgets.text(\"customer_name\",\"ravi\")\n",
    "dbutils.widgets.dropdown(\"customer_name_dropdown\",\"Ravi\",[\"Ram\",\"Vikranth\",\"Reshwanth\",\"Ravi\"])\n",
    "dbutils.widgets.combobox(\"customer_name_combo\",\"Ravi\",[\"Ram\",\"Vikranth\",\"Reshwanth\",\"Ravi\"])  # text+dropdown\n",
    "dbutils.widgets.multiselect(\"customer_name_multi\",\"Ravi\",[\"Ram\",\"Vikranth\",\"Reshwanth\",\"Ravi\"])"
   ]
  },
  {
   "cell_type": "code",
   "execution_count": 0,
   "metadata": {
    "application/vnd.databricks.v1+cell": {
     "cellMetadata": {},
     "inputWidgets": {},
     "nuid": "27ca9b7b-35aa-4882-b1a2-c56ff6446bcc",
     "showTitle": false,
     "title": ""
    }
   },
   "outputs": [
    {
     "output_type": "stream",
     "name": "stdout",
     "output_type": "stream",
     "text": [
      "Out[33]: ['Vikranth', 'Reshwanth']"
     ]
    }
   ],
   "source": [
    "getArgument(\"customer_name_multi\").split(\",\")"
   ]
  },
  {
   "cell_type": "code",
   "execution_count": 0,
   "metadata": {
    "application/vnd.databricks.v1+cell": {
     "cellMetadata": {},
     "inputWidgets": {},
     "nuid": "1ba76039-a7b5-4687-bc7b-d6ef7f1579ce",
     "showTitle": false,
     "title": ""
    }
   },
   "outputs": [],
   "source": [
    "%sql\n",
    "select * from catalog_batch42.bronze_schema.dept"
   ]
  },
  {
   "cell_type": "code",
   "execution_count": 0,
   "metadata": {
    "application/vnd.databricks.v1+cell": {
     "cellMetadata": {},
     "inputWidgets": {},
     "nuid": "9e230488-1fad-4f35-bd7b-732d461a5e99",
     "showTitle": false,
     "title": ""
    }
   },
   "outputs": [],
   "source": [
    "from pyspark.sql.functions import explode\n",
    "\n",
    "\n",
    "# Read nested JSON data into DataFrame\n",
    "df = spark.read.json(\"path_to_json_file\")\n",
    "\n",
    "# Flatten nested columns using explode function\n",
    "flattened_df = df.select(\"column1\", \"column2\", explode(\"nested_column\").alias(\"exploded_column\"))\n",
    "\n",
    "# Show the flattened DataFrame\n",
    "flattened_df.show()"
   ]
  },
  {
   "cell_type": "code",
   "execution_count": 0,
   "metadata": {
    "application/vnd.databricks.v1+cell": {
     "cellMetadata": {},
     "inputWidgets": {},
     "nuid": "73d20b6e-755f-4cac-851b-631d285c672d",
     "showTitle": false,
     "title": ""
    }
   },
   "outputs": [
    {
     "output_type": "stream",
     "name": "stdout",
     "output_type": "stream",
     "text": [
      "Out[16]: '1234'"
     ]
    }
   ],
   "source": [
    "dbutils.widgets.get(\"customer_name\")"
   ]
  },
  {
   "cell_type": "code",
   "execution_count": 0,
   "metadata": {
    "application/vnd.databricks.v1+cell": {
     "cellMetadata": {},
     "inputWidgets": {},
     "nuid": "df7a1661-9d69-4e75-b7e7-d3617ee8894a",
     "showTitle": false,
     "title": ""
    }
   },
   "outputs": [],
   "source": [
    "#how to remove existing widgets\n",
    "dbutils.widgets.removeAll()\n",
    "\n",
    "# TEXT() -- single value \n",
    "# dropdown() - multiple values \n",
    "# combobox() - multiple  (text+dropdown)"
   ]
  },
  {
   "cell_type": "code",
   "execution_count": 0,
   "metadata": {
    "application/vnd.databricks.v1+cell": {
     "cellMetadata": {},
     "inputWidgets": {},
     "nuid": "a0c72066-e040-4550-b922-d829db470cd1",
     "showTitle": false,
     "title": ""
    }
   },
   "outputs": [],
   "source": [
    "# python dictionary (key value)"
   ]
  },
  {
   "cell_type": "code",
   "execution_count": 0,
   "metadata": {
    "application/vnd.databricks.v1+cell": {
     "cellMetadata": {},
     "inputWidgets": {},
     "nuid": "01ff8147-63cc-4ac5-a8a8-064c340c2e06",
     "showTitle": false,
     "title": ""
    }
   },
   "outputs": [],
   "source": [
    "dbutils.widgets.multiselect(\"name_multiselect\",\"ravi\",[\"ravi\",\"Ram\",\"Rahim\",\"Roshan\",\"Rehman\",\"Mohan\"])\n",
    "dbutils.widgets.get(\"name_multiselect\").split(\",\")"
   ]
  },
  {
   "cell_type": "code",
   "execution_count": 0,
   "metadata": {
    "application/vnd.databricks.v1+cell": {
     "cellMetadata": {},
     "inputWidgets": {},
     "nuid": "26330a01-a62f-4749-8250-60d271f1387a",
     "showTitle": false,
     "title": ""
    }
   },
   "outputs": [],
   "source": [
    "dbutils.widgets.combobox(\"name_combo\",\"ravi\",[\"ravi\",\"Ram\",\"Rahim\",\"Roshan\",\"Rehman\",\"Mohan\"])\n",
    "dbutils.widgets.get(\"name_combo\")"
   ]
  },
  {
   "cell_type": "code",
   "execution_count": 0,
   "metadata": {
    "application/vnd.databricks.v1+cell": {
     "cellMetadata": {},
     "inputWidgets": {},
     "nuid": "79864941-ab2f-4b98-b4ad-010660263219",
     "showTitle": false,
     "title": ""
    }
   },
   "outputs": [],
   "source": [
    "dbutils.widgets.dropdown(\"name_lov\",\"ravi\",[\"ravi\",\"Ram\",\"Rahim\",\"Roshan\",\"Rehman\",\"Mohan\"])"
   ]
  },
  {
   "cell_type": "code",
   "execution_count": 0,
   "metadata": {
    "application/vnd.databricks.v1+cell": {
     "cellMetadata": {},
     "inputWidgets": {},
     "nuid": "302265e3-8527-4d9d-8759-a40990b7d55b",
     "showTitle": false,
     "title": ""
    }
   },
   "outputs": [],
   "source": [
    "dbutils.widgets.get(\"name_lov\")"
   ]
  },
  {
   "cell_type": "code",
   "execution_count": 0,
   "metadata": {
    "application/vnd.databricks.v1+cell": {
     "cellMetadata": {},
     "inputWidgets": {},
     "nuid": "54e929e7-ac01-4624-8694-9d4a553ea6b9",
     "showTitle": false,
     "title": ""
    }
   },
   "outputs": [],
   "source": [
    "#dbutils.widgets.get(\"p_name\")\n",
    "getArgument(\"p_name\")"
   ]
  },
  {
   "cell_type": "code",
   "execution_count": 0,
   "metadata": {
    "application/vnd.databricks.v1+cell": {
     "cellMetadata": {},
     "inputWidgets": {},
     "nuid": "5d30baab-fb2a-4c50-939e-faa5c8b4c3de",
     "showTitle": false,
     "title": ""
    }
   },
   "outputs": [],
   "source": [
    "dbutils.widgets.text(\"p_name\",\"Ram\")\n",
    "dbutils.widgets.dropdown(\"dropdown_name\",\"Ram\",[\"Vikranth\",\"Reshwnath\",\"yeswanth\",\"Ram\"],\"dropdown_name\")\n",
    "dbutils.widgets.combobox(\"combo_name\",\"Ram\",[\"Vikranth\",\"Reshwnath\",\"yeswanth\",\"Ram\"],\"combo_name\")\n",
    "dbutils.widgets.multiselect(\"mult_name\",\"Ram\",[\"Vikranth\",\"Reshwnath\",\"yeswanth\",\"Ram\",\"1234\"],\"mult_name\")\n",
    "# arg1 - widget name \n",
    "# Arg2 - default value \n",
    "# arg3 - display name "
   ]
  },
  {
   "cell_type": "code",
   "execution_count": 0,
   "metadata": {
    "application/vnd.databricks.v1+cell": {
     "cellMetadata": {},
     "inputWidgets": {},
     "nuid": "aab1cce3-94fc-449c-9a21-3139f951ed39",
     "showTitle": false,
     "title": ""
    }
   },
   "outputs": [],
   "source": [
    "# databricks variables (notebook variables)"
   ]
  },
  {
   "cell_type": "code",
   "execution_count": 0,
   "metadata": {
    "application/vnd.databricks.v1+cell": {
     "cellMetadata": {},
     "inputWidgets": {},
     "nuid": "30af4eb1-a066-4148-bbba-f3dc1f48ed24",
     "showTitle": false,
     "title": ""
    }
   },
   "outputs": [],
   "source": [
    "dbutils.widgets.removeAll()"
   ]
  },
  {
   "cell_type": "markdown",
   "metadata": {
    "application/vnd.databricks.v1+cell": {
     "cellMetadata": {},
     "inputWidgets": {},
     "nuid": "ae34c177-1f7a-4725-9534-d80902fefdc9",
     "showTitle": false,
     "title": ""
    }
   },
   "source": [
    "#### dbutils.widgets  usage \n",
    "#### Widget types\n",
    "###### There are 4 types of widgets:\n",
    "\n",
    "* `text`: Input a value in a text box.\n",
    "* `dropdown`: Select a value from a list of provided values.\n",
    "* `combobox`: Combination of text and dropdown. Select a value from a provided list or input one in the text box.\n",
    "* `multiselect`: Select one or more values from a list of provided values.\n",
    "* `Widget dropdowns` and `text boxes` appear immediately following the notebook toolbar.\n",
    "\n",
    "* `dbutils.widgets.text And dbutils.widgets.get` we are using to create variables and passing values. \n",
    "* `text(name: String, defaultValue: String, label: String) `: void -> Creates a text input widget with a given name and default value\n",
    "* `get(name: String)` : String -> Retrieves current value of an input widget\n",
    "* `combobox(name: String, defaultValue: String, choices: Seq, label: String)`: void -> Creates a combobox input widget with a \n",
    "  * given name, default value and choices\n",
    "* `dropdown(name: String, defaultValue: String, choices: Seq, label: String)`: void -> Creates a dropdown input widget a \n",
    "   * with given name, default value and choices\n",
    "\n",
    "\n"
   ]
  },
  {
   "cell_type": "markdown",
   "metadata": {
    "application/vnd.databricks.v1+cell": {
     "cellMetadata": {},
     "inputWidgets": {},
     "nuid": "ae1b882c-baed-4a85-8731-5dae8e407dad",
     "showTitle": false,
     "title": ""
    }
   },
   "source": [
    "##### `text(name: String, defaultValue: String, label: String)`\n",
    "* Creates a text input widget with a given name and default value\n"
   ]
  },
  {
   "cell_type": "code",
   "execution_count": 0,
   "metadata": {
    "application/vnd.databricks.v1+cell": {
     "cellMetadata": {},
     "inputWidgets": {},
     "nuid": "fb84e5d3-f710-4a61-a05e-55ff9d2e33b4",
     "showTitle": false,
     "title": ""
    }
   },
   "outputs": [],
   "source": [
    "dbutils.widgets.text(\"sample_variable\", \"text\")\n",
    "print(dbutils.widgets.get(\"sample_variable\"))"
   ]
  },
  {
   "cell_type": "code",
   "execution_count": 0,
   "metadata": {
    "application/vnd.databricks.v1+cell": {
     "cellMetadata": {},
     "inputWidgets": {},
     "nuid": "b4388ce5-97c3-49f4-aaae-5e94d4004eca",
     "showTitle": false,
     "title": ""
    }
   },
   "outputs": [],
   "source": [
    "sample_v = dbutils.widgets.get(\"sample_variable\")\n",
    "print(sample_v)"
   ]
  },
  {
   "cell_type": "code",
   "execution_count": 0,
   "metadata": {
    "application/vnd.databricks.v1+cell": {
     "cellMetadata": {},
     "inputWidgets": {},
     "nuid": "7b2e2e14-f72b-43eb-8ee1-08e3c56afb8c",
     "showTitle": false,
     "title": ""
    }
   },
   "outputs": [],
   "source": [
    "print(dbutils.widgets.get(\"foo\"))\n",
    "print(getArgument('foo'))"
   ]
  },
  {
   "cell_type": "code",
   "execution_count": 0,
   "metadata": {
    "application/vnd.databricks.v1+cell": {
     "cellMetadata": {},
     "inputWidgets": {},
     "nuid": "79ad34a5-55be-425c-885e-1c7477e0a49c",
     "showTitle": false,
     "title": ""
    }
   },
   "outputs": [],
   "source": [
    "dbutils.widgets.text(\"P_NAME\",\"A\",\"label_name\")\n",
    "# 1st parameter is Variable Name\n",
    "# 2nd Parameter default value\n",
    "# 3rd Parameter is display name for input Parameter\n",
    "V_NAME = dbutils.widgets.get(\"P_NAME\")\n",
    "print(V_NAME)"
   ]
  },
  {
   "cell_type": "code",
   "execution_count": 0,
   "metadata": {
    "application/vnd.databricks.v1+cell": {
     "cellMetadata": {},
     "inputWidgets": {},
     "nuid": "4cdbc608-47e8-4196-a037-633957224069",
     "showTitle": false,
     "title": ""
    }
   },
   "outputs": [],
   "source": [
    "V_NAME = dbutils.widgets.get(\"P_NAME\")\n",
    "print(V_NAME)"
   ]
  },
  {
   "cell_type": "markdown",
   "metadata": {
    "application/vnd.databricks.v1+cell": {
     "cellMetadata": {},
     "inputWidgets": {},
     "nuid": "149cd35d-312e-4584-bd86-7c9f11c4b2af",
     "showTitle": false,
     "title": ""
    }
   },
   "source": [
    "##### Creating `COMBOBOX` variable using `dbutils.widgets.combobox`\n",
    "* 1st parameter Parameter Name\n",
    "* 2nd Parameter Default Value\n",
    "* 3rd list (list of multiple values)\n",
    "* 4th parameter Label name which will display in notebook header (optional)"
   ]
  },
  {
   "cell_type": "code",
   "execution_count": 0,
   "metadata": {
    "application/vnd.databricks.v1+cell": {
     "cellMetadata": {},
     "inputWidgets": {},
     "nuid": "45149059-2ebd-4f91-b672-8a522d6253f1",
     "showTitle": false,
     "title": ""
    }
   },
   "outputs": [],
   "source": [
    "dbutils.widgets.combobox(\"P_COMBOBOX\",\"ESWAR\",[\"VAMSI\",\"LAKSHMI\",\"RAJA\"]) \n",
    "V_COMBO = dbutils.widgets.get(\"P_COMBOBOX\")\n",
    "print(V_COMBO)"
   ]
  },
  {
   "cell_type": "code",
   "execution_count": 0,
   "metadata": {
    "application/vnd.databricks.v1+cell": {
     "cellMetadata": {},
     "inputWidgets": {},
     "nuid": "89099b03-7db4-46f8-ba7a-a03db3860401",
     "showTitle": false,
     "title": ""
    }
   },
   "outputs": [],
   "source": [
    "V_COMBO = dbutils.widgets.get(\"P_COMBOBOX\")\n",
    "print(V_COMBO)"
   ]
  },
  {
   "cell_type": "markdown",
   "metadata": {
    "application/vnd.databricks.v1+cell": {
     "cellMetadata": {},
     "inputWidgets": {},
     "nuid": "edc17bbb-8a02-4d5b-af91-320751440cf2",
     "showTitle": false,
     "title": ""
    }
   },
   "source": [
    "#### DROPDOWN \n",
    "* dropdown(name: String, defaultValue: String, choices: Seq, label: String)\n",
    "* Creates a dropdown input widget a with given name, default value and choices\n"
   ]
  },
  {
   "cell_type": "code",
   "execution_count": 0,
   "metadata": {
    "application/vnd.databricks.v1+cell": {
     "cellMetadata": {},
     "inputWidgets": {},
     "nuid": "81022311-accc-43f6-89e5-ef293f520566",
     "showTitle": false,
     "title": ""
    }
   },
   "outputs": [],
   "source": [
    "dbutils.widgets.dropdown(\"P_DROPDOWN\", \"1\", [\"1\",\"2\",\"3\"],\"SELECT_DROPDOWN\")\n",
    "V_DROPDOWN = dbutils.widgets.get(\"P_DROPDOWN\")\n",
    "print(V_DROPDOWN)"
   ]
  },
  {
   "cell_type": "code",
   "execution_count": 0,
   "metadata": {
    "application/vnd.databricks.v1+cell": {
     "cellMetadata": {},
     "inputWidgets": {},
     "nuid": "3173825d-7737-420c-9b92-c04c6f33d232",
     "showTitle": false,
     "title": ""
    }
   },
   "outputs": [],
   "source": [
    "#getArgument(\"\")\n",
    "dbutils.widgets.removeAll()"
   ]
  },
  {
   "cell_type": "code",
   "execution_count": 0,
   "metadata": {
    "application/vnd.databricks.v1+cell": {
     "cellMetadata": {},
     "inputWidgets": {},
     "nuid": "23aea107-b5c4-48f2-b86c-92c1729c0dc3",
     "showTitle": false,
     "title": ""
    }
   },
   "outputs": [],
   "source": [
    "dbutils.widgets.dropdown(\"P_DROPDOWN2\",\"2\",[\"1\",\"2\",\"3\"]) \n",
    "V_dropdown = dbutils.widgets.get(\"P_DROPDOWN\")\n",
    "print(V_dropdown)"
   ]
  },
  {
   "cell_type": "code",
   "execution_count": 0,
   "metadata": {
    "application/vnd.databricks.v1+cell": {
     "cellMetadata": {},
     "inputWidgets": {},
     "nuid": "594c6904-b1e9-4e92-94ae-5414d5e71fcf",
     "showTitle": false,
     "title": ""
    }
   },
   "outputs": [],
   "source": [
    "dbutils.widgets.dropdown(\"X123\", \"1\", [str(x) for x in range(1, 10)])\n",
    "\n",
    "dbutils.widgets.dropdown(\"1\", \"1\", [str(x) for x in range(1, 10)], \"hello this is a widget\")"
   ]
  },
  {
   "cell_type": "markdown",
   "metadata": {
    "application/vnd.databricks.v1+cell": {
     "cellMetadata": {},
     "inputWidgets": {},
     "nuid": "54fb1bf6-0c87-46bd-8972-0a53f9b3ba2c",
     "showTitle": false,
     "title": ""
    }
   },
   "source": [
    "#### MultiSelect\n",
    "* multiselect(name: String, defaultValue: String, choices: Seq, label: String): \n",
    "* Creates a multiselect input widget with a given name, default value and choices\n",
    "\n"
   ]
  },
  {
   "cell_type": "code",
   "execution_count": 0,
   "metadata": {
    "application/vnd.databricks.v1+cell": {
     "cellMetadata": {},
     "inputWidgets": {},
     "nuid": "54f93786-18eb-4417-bbd8-82be03aa05f9",
     "showTitle": false,
     "title": ""
    }
   },
   "outputs": [],
   "source": [
    "dbutils.widgets.multiselect(\"MSelect\", \"RAJA\",[\"ESWAR\",'RAJA',\"VAMSI\",\"LAKSHMI\",\"1\",\"2\",\"3\"],\"MultiSelect\")\n",
    "print(dbutils.widgets.get(\"MSelect\").split(\",\"))"
   ]
  },
  {
   "cell_type": "code",
   "execution_count": 0,
   "metadata": {
    "application/vnd.databricks.v1+cell": {
     "cellMetadata": {},
     "inputWidgets": {},
     "nuid": "47c74ab0-522c-444a-a8dc-fcf7c1fa05f6",
     "showTitle": false,
     "title": ""
    }
   },
   "outputs": [],
   "source": [
    "getArgument('MSelect').split(\",\")\n"
   ]
  },
  {
   "cell_type": "markdown",
   "metadata": {
    "application/vnd.databricks.v1+cell": {
     "cellMetadata": {},
     "inputWidgets": {},
     "nuid": "819a52ef-6084-429f-bd80-20e0f8688962",
     "showTitle": false,
     "title": ""
    }
   },
   "source": [
    "##### Remove Individual Widgets or All Widgets... using `remove`  or  `removeAll`"
   ]
  },
  {
   "cell_type": "code",
   "execution_count": 0,
   "metadata": {
    "application/vnd.databricks.v1+cell": {
     "cellMetadata": {},
     "inputWidgets": {},
     "nuid": "d3aae87b-e7eb-40a0-9163-cf759723cd27",
     "showTitle": false,
     "title": ""
    }
   },
   "outputs": [],
   "source": [
    "#Remove All widgets \n",
    "#dbutils.widgets.remove('MSelect')\n",
    "#dbutils.widgets.removeAll()"
   ]
  },
  {
   "cell_type": "code",
   "execution_count": 0,
   "metadata": {
    "application/vnd.databricks.v1+cell": {
     "cellMetadata": {},
     "inputWidgets": {},
     "nuid": "804f535b-9e7e-4757-bfd2-300257d4dde8",
     "showTitle": false,
     "title": ""
    }
   },
   "outputs": [],
   "source": [
    "# Remove selected Widgets...\n",
    "#dbutils.widgets.remove(\"MSelect\")\n"
   ]
  },
  {
   "cell_type": "code",
   "execution_count": 0,
   "metadata": {
    "application/vnd.databricks.v1+cell": {
     "cellMetadata": {},
     "inputWidgets": {},
     "nuid": "bdbe76f1-a539-40f3-a113-42d738779707",
     "showTitle": false,
     "title": ""
    }
   },
   "outputs": [],
   "source": [
    "#dbutils.fs.rm(\"dbfs:/babynames.csv\")"
   ]
  },
  {
   "cell_type": "code",
   "execution_count": 0,
   "metadata": {
    "application/vnd.databricks.v1+cell": {
     "cellMetadata": {},
     "inputWidgets": {},
     "nuid": "4592297d-0b06-4f46-a2ae-fec6f75f5704",
     "showTitle": false,
     "title": ""
    }
   },
   "outputs": [],
   "source": [
    "import urllib3\n",
    "response = urllib3.PoolManager().request('GET', 'http://health.data.ny.gov/api/views/myeu-hzra/rows.csv')\n",
    "csvfile = response.data.decode(\"utf-8\")\n",
    "dbutils.fs.put(\"dbfs:/babynames.csv\", csvfile)"
   ]
  },
  {
   "cell_type": "code",
   "execution_count": 0,
   "metadata": {
    "application/vnd.databricks.v1+cell": {
     "cellMetadata": {},
     "inputWidgets": {},
     "nuid": "e922a443-b448-4f07-8f4d-7646904caa65",
     "showTitle": false,
     "title": ""
    }
   },
   "outputs": [],
   "source": [
    "\n",
    "babynames = spark.read.csv(\"dbfs:/babynames.csv\",header=True,inferSchema=True)\n",
    "babynames.createOrReplaceTempView(\"babynames_table\")"
   ]
  },
  {
   "cell_type": "code",
   "execution_count": 0,
   "metadata": {
    "application/vnd.databricks.v1+cell": {
     "cellMetadata": {},
     "inputWidgets": {},
     "nuid": "7bca9b94-23f7-44fe-8b53-8efefba2bc72",
     "showTitle": false,
     "title": ""
    }
   },
   "outputs": [],
   "source": [
    "%sql\n",
    "select * from babynames_table"
   ]
  },
  {
   "cell_type": "code",
   "execution_count": 0,
   "metadata": {
    "application/vnd.databricks.v1+cell": {
     "cellMetadata": {},
     "inputWidgets": {},
     "nuid": "59e46702-333a-4bcf-b660-c614b46c72fa",
     "showTitle": false,
     "title": ""
    }
   },
   "outputs": [],
   "source": [
    "#v_year = dbutils.widgets.get('year')\n",
    "display(babynames.filter(babynames['Year']==getArgument('year')))"
   ]
  },
  {
   "cell_type": "code",
   "execution_count": 0,
   "metadata": {
    "application/vnd.databricks.v1+cell": {
     "cellMetadata": {},
     "inputWidgets": {},
     "nuid": "5959be9d-5582-428a-9116-3d84733fc3ca",
     "showTitle": false,
     "title": ""
    }
   },
   "outputs": [],
   "source": [
    "%sql\n",
    "select * from babynames_table"
   ]
  },
  {
   "cell_type": "code",
   "execution_count": 0,
   "metadata": {
    "application/vnd.databricks.v1+cell": {
     "cellMetadata": {},
     "inputWidgets": {},
     "nuid": "e20e0c4c-72ef-4c01-8f02-73d69620a96e",
     "showTitle": false,
     "title": ""
    }
   },
   "outputs": [],
   "source": [
    "years = spark.sql(\"select distinct(Year) from babynames_table\").rdd.map(lambda row : row[0]).collect()\n",
    "years.sort()\n",
    "years"
   ]
  },
  {
   "cell_type": "code",
   "execution_count": 0,
   "metadata": {
    "application/vnd.databricks.v1+cell": {
     "cellMetadata": {},
     "inputWidgets": {},
     "nuid": "01dff88a-315d-4b73-b8ad-439bf43afb68",
     "showTitle": false,
     "title": ""
    }
   },
   "outputs": [],
   "source": [
    "dbutils.widgets.dropdown(\"year\",'2014', [str(x) for x in years],\"year\")\n",
    "display(babynames.filter(babynames.Year == getArgument(\"year\")))\n"
   ]
  },
  {
   "cell_type": "code",
   "execution_count": 0,
   "metadata": {
    "application/vnd.databricks.v1+cell": {
     "cellMetadata": {},
     "inputWidgets": {},
     "nuid": "71c2db42-0ac4-4657-898f-6be7c85e8e12",
     "showTitle": false,
     "title": ""
    }
   },
   "outputs": [],
   "source": [
    "b=int(getArgument('year'))\n",
    "b"
   ]
  },
  {
   "cell_type": "code",
   "execution_count": 0,
   "metadata": {
    "application/vnd.databricks.v1+cell": {
     "cellMetadata": {},
     "inputWidgets": {},
     "nuid": "59e37fd6-565e-4686-86b5-7fe7bda11cb1",
     "showTitle": false,
     "title": ""
    }
   },
   "outputs": [],
   "source": [
    "%sql\n",
    " SELECT DISTINCT year FROM babynames_table"
   ]
  },
  {
   "cell_type": "code",
   "execution_count": 0,
   "metadata": {
    "application/vnd.databricks.v1+cell": {
     "cellMetadata": {},
     "inputWidgets": {},
     "nuid": "8177670d-28ed-4424-9b50-36fa6830bf62",
     "showTitle": false,
     "title": ""
    }
   },
   "outputs": [],
   "source": [
    "# dbutils.widgets.get(\"sql_year\")\n",
    "#getArgument(\"sql_year\")"
   ]
  },
  {
   "cell_type": "markdown",
   "metadata": {
    "application/vnd.databricks.v1+cell": {
     "cellMetadata": {},
     "inputWidgets": {},
     "nuid": "9c2dc987-0da8-4834-a882-3dbbd1ba8e5e",
     "showTitle": false,
     "title": ""
    }
   },
   "source": [
    "#### Widgets in SQL\n",
    "* The API to create widgets in SQL is slightly different but as powerful as the APIs for the other languages. \n",
    "* The following is an example of creating a text input widget."
   ]
  },
  {
   "cell_type": "code",
   "execution_count": 0,
   "metadata": {
    "application/vnd.databricks.v1+cell": {
     "cellMetadata": {},
     "inputWidgets": {},
     "nuid": "554955fc-0fba-4087-aa1d-0ce683aceb24",
     "showTitle": false,
     "title": ""
    }
   },
   "outputs": [],
   "source": [
    "%sql\n",
    "CREATE WIDGET DROPDOWN sql_year DEFAULT \"2014\" CHOICES SELECT DISTINCT year FROM babynames_table"
   ]
  },
  {
   "cell_type": "code",
   "execution_count": 0,
   "metadata": {
    "application/vnd.databricks.v1+cell": {
     "cellMetadata": {},
     "inputWidgets": {},
     "nuid": "8cdfad36-0fba-4952-8c94-1fffb11720f5",
     "showTitle": false,
     "title": ""
    }
   },
   "outputs": [],
   "source": [
    "%sql\n",
    "remove widget sql_year"
   ]
  },
  {
   "cell_type": "markdown",
   "metadata": {
    "application/vnd.databricks.v1+cell": {
     "cellMetadata": {},
     "inputWidgets": {},
     "nuid": "9a115243-44ac-4072-8b98-1b704ec83fff",
     "showTitle": false,
     "title": ""
    }
   },
   "source": [
    "#### getArgument"
   ]
  },
  {
   "cell_type": "code",
   "execution_count": 0,
   "metadata": {
    "application/vnd.databricks.v1+cell": {
     "cellMetadata": {},
     "inputWidgets": {},
     "nuid": "f7d68d78-0873-4775-a4c6-f37a1cf5f607",
     "showTitle": false,
     "title": ""
    }
   },
   "outputs": [],
   "source": [
    "%sql\n",
    "select * from babynames_table where  year  = getArgument('sql_year');"
   ]
  },
  {
   "cell_type": "code",
   "execution_count": 0,
   "metadata": {
    "application/vnd.databricks.v1+cell": {
     "cellMetadata": {},
     "inputWidgets": {},
     "nuid": "82e34ddd-fe67-472f-b899-6b5dd0832bad",
     "showTitle": false,
     "title": ""
    }
   },
   "outputs": [],
   "source": [
    "%sql\n",
    "CREATE WIDGET TEXT y DEFAULT \"10\""
   ]
  },
  {
   "cell_type": "markdown",
   "metadata": {
    "application/vnd.databricks.v1+cell": {
     "cellMetadata": {},
     "inputWidgets": {},
     "nuid": "70f9d853-4359-409b-82f0-9119a1a7b8a6",
     "showTitle": false,
     "title": ""
    }
   },
   "source": [
    "#### Creating DROPDOWN widgets variables in SQL"
   ]
  },
  {
   "cell_type": "code",
   "execution_count": 0,
   "metadata": {
    "application/vnd.databricks.v1+cell": {
     "cellMetadata": {},
     "inputWidgets": {},
     "nuid": "8320c1c9-6a8f-40b1-83f4-2758c02edbf5",
     "showTitle": false,
     "title": ""
    }
   },
   "outputs": [],
   "source": [
    "%sql\n",
    "CREATE TABLE IF NOT EXISTS diamonds USING CSV OPTIONS (path \"/databricks-datasets/Rdatasets/data-001/csv/ggplot2/diamonds.csv\", header \"true\")\n"
   ]
  },
  {
   "cell_type": "code",
   "execution_count": 0,
   "metadata": {
    "application/vnd.databricks.v1+cell": {
     "cellMetadata": {},
     "inputWidgets": {},
     "nuid": "c87100c0-ee20-4152-8dbc-ebf0a70e2bf0",
     "showTitle": false,
     "title": ""
    }
   },
   "outputs": [],
   "source": [
    "%sql\n",
    "CREATE WIDGET DROPDOWN cuts DEFAULT \"Good\" CHOICES SELECT DISTINCT cut FROM diamonds"
   ]
  },
  {
   "cell_type": "code",
   "execution_count": 0,
   "metadata": {
    "application/vnd.databricks.v1+cell": {
     "cellMetadata": {},
     "inputWidgets": {},
     "nuid": "40be1a5b-5f53-4453-bfb2-d9b30e2067c3",
     "showTitle": false,
     "title": ""
    }
   },
   "outputs": [],
   "source": [
    "%sql\n",
    "SELECT * FROM diamonds WHERE cut LIKE '%$cuts%'"
   ]
  },
  {
   "cell_type": "markdown",
   "metadata": {
    "application/vnd.databricks.v1+cell": {
     "cellMetadata": {},
     "inputWidgets": {},
     "nuid": "dea85f01-cce1-4362-82fa-67fa7fce5c3e",
     "showTitle": false,
     "title": ""
    }
   },
   "source": [
    "##### Remove WIDGET using SQL"
   ]
  },
  {
   "cell_type": "code",
   "execution_count": 0,
   "metadata": {
    "application/vnd.databricks.v1+cell": {
     "cellMetadata": {},
     "inputWidgets": {},
     "nuid": "efbe1176-db3f-4365-aef8-f82ec7722074",
     "showTitle": false,
     "title": ""
    }
   },
   "outputs": [],
   "source": [
    "dbutils.widgets.removeAll()"
   ]
  },
  {
   "cell_type": "code",
   "execution_count": 0,
   "metadata": {
    "application/vnd.databricks.v1+cell": {
     "cellMetadata": {},
     "inputWidgets": {},
     "nuid": "9d0d27cc-caa1-4387-8749-7861d7adeb0b",
     "showTitle": false,
     "title": ""
    }
   },
   "outputs": [],
   "source": [
    "%sql\n",
    "REMOVE WIDGET sql_year\n"
   ]
  },
  {
   "cell_type": "code",
   "execution_count": 0,
   "metadata": {
    "application/vnd.databricks.v1+cell": {
     "cellMetadata": {},
     "inputWidgets": {},
     "nuid": "5ba1dba2-dd5f-46cb-b485-6cdc315e1d20",
     "showTitle": false,
     "title": ""
    }
   },
   "outputs": [],
   "source": [
    "emp_csv = spark.read.csv(\"/FileStore/tables/emp.csv\",header=True,inferSchema=True)"
   ]
  },
  {
   "cell_type": "code",
   "execution_count": 0,
   "metadata": {
    "application/vnd.databricks.v1+cell": {
     "cellMetadata": {},
     "inputWidgets": {},
     "nuid": "88e42551-a163-4f62-8308-953c9aadaa41",
     "showTitle": false,
     "title": ""
    }
   },
   "outputs": [],
   "source": [
    "emp_csv.createGlobalTempView(\"emp_csv\")"
   ]
  },
  {
   "cell_type": "code",
   "execution_count": 0,
   "metadata": {
    "application/vnd.databricks.v1+cell": {
     "cellMetadata": {},
     "inputWidgets": {},
     "nuid": "8546b452-c8b5-4d42-b1aa-6f1de1213cb1",
     "showTitle": false,
     "title": ""
    }
   },
   "outputs": [],
   "source": [
    "emp_csv.printSchema()"
   ]
  },
  {
   "cell_type": "code",
   "execution_count": 0,
   "metadata": {
    "application/vnd.databricks.v1+cell": {
     "cellMetadata": {},
     "inputWidgets": {},
     "nuid": "53204832-2c29-4242-aa45-5e68f080dd0a",
     "showTitle": false,
     "title": ""
    }
   },
   "outputs": [],
   "source": [
    "from pyspark.sql.functions import split\n",
    "a=getArgument('P_DEPTNO').split(\",\")\n"
   ]
  },
  {
   "cell_type": "markdown",
   "metadata": {
    "application/vnd.databricks.v1+cell": {
     "cellMetadata": {},
     "inputWidgets": {},
     "nuid": "9a2e20a1-567f-49da-99fa-139404d65b6a",
     "showTitle": false,
     "title": ""
    }
   },
   "source": [
    "#### Selecting `MULTIPLE` values and applying in filter clause using split(',')"
   ]
  },
  {
   "cell_type": "code",
   "execution_count": 0,
   "metadata": {
    "application/vnd.databricks.v1+cell": {
     "cellMetadata": {},
     "inputWidgets": {},
     "nuid": "0cd74ef0-fd72-4775-9d63-b94f9a780d4e",
     "showTitle": false,
     "title": ""
    }
   },
   "outputs": [],
   "source": [
    "dept_list = ('10','20','30','40')\n",
    "dbutils.widgets.multiselect(\"P_DEPTNO\",'10',dept_list)\n",
    "#Selecting multiple values and applying multiple values in filter (Where)\n",
    "print(getArgument('P_DEPTNO').split(\",\"))"
   ]
  },
  {
   "cell_type": "code",
   "execution_count": 0,
   "metadata": {
    "application/vnd.databricks.v1+cell": {
     "cellMetadata": {},
     "inputWidgets": {},
     "nuid": "97b29948-4d42-4b7e-9971-1913c3d865ac",
     "showTitle": false,
     "title": ""
    }
   },
   "outputs": [],
   "source": [
    "emp_csv.filter(emp_csv.DEPTNO.isin(getArgument('P_DEPTNO').split(\",\"))).show()"
   ]
  },
  {
   "cell_type": "code",
   "execution_count": 0,
   "metadata": {
    "application/vnd.databricks.v1+cell": {
     "cellMetadata": {},
     "inputWidgets": {},
     "nuid": "a86ff052-457d-4f3e-a2cf-ce7edc8ba1f7",
     "showTitle": false,
     "title": ""
    }
   },
   "outputs": [],
   "source": [
    "#dbutils.widgets.removeAll()"
   ]
  },
  {
   "cell_type": "code",
   "execution_count": 0,
   "metadata": {
    "application/vnd.databricks.v1+cell": {
     "cellMetadata": {},
     "inputWidgets": {},
     "nuid": "a10a5ad8-0183-4f97-be1f-ef7a007ed8c9",
     "showTitle": false,
     "title": ""
    }
   },
   "outputs": [],
   "source": [
    "dept_no = tuple(getArgument('P_DEPTNO').split(','))\n",
    "dept_no"
   ]
  },
  {
   "cell_type": "code",
   "execution_count": 0,
   "metadata": {
    "application/vnd.databricks.v1+cell": {
     "cellMetadata": {},
     "inputWidgets": {},
     "nuid": "b1fe29a1-e983-4eb5-a904-9cfb3e787f4c",
     "showTitle": false,
     "title": ""
    }
   },
   "outputs": [],
   "source": [
    "display(spark.sql(f'select * from global_temp.emp_csv where deptno in {dept_no}'))"
   ]
  },
  {
   "cell_type": "code",
   "execution_count": 0,
   "metadata": {
    "application/vnd.databricks.v1+cell": {
     "cellMetadata": {},
     "inputWidgets": {},
     "nuid": "fe26e243-8338-4067-a530-93f5020f8ffd",
     "showTitle": false,
     "title": ""
    }
   },
   "outputs": [],
   "source": [
    "dbutils.widgets.multiselect(\"X\", \"1\", [str(x) for x in range(1, 10)])"
   ]
  },
  {
   "cell_type": "code",
   "execution_count": 0,
   "metadata": {
    "application/vnd.databricks.v1+cell": {
     "cellMetadata": {},
     "inputWidgets": {},
     "nuid": "de3ccce2-9d40-4446-abe2-6d3736795450",
     "showTitle": false,
     "title": ""
    }
   },
   "outputs": [],
   "source": [
    "print(getArgument('X').split(','))"
   ]
  },
  {
   "cell_type": "code",
   "execution_count": 0,
   "metadata": {
    "application/vnd.databricks.v1+cell": {
     "cellMetadata": {},
     "inputWidgets": {},
     "nuid": "f011e093-f0bb-4dad-a252-8cbe9d2986f4",
     "showTitle": false,
     "title": ""
    }
   },
   "outputs": [],
   "source": [
    "%sql\n",
    "select getArgument(\"X\")"
   ]
  },
  {
   "cell_type": "code",
   "execution_count": 0,
   "metadata": {
    "application/vnd.databricks.v1+cell": {
     "cellMetadata": {},
     "inputWidgets": {},
     "nuid": "30cdfa53-fd6b-4406-8b5b-da1a53768070",
     "showTitle": false,
     "title": ""
    }
   },
   "outputs": [],
   "source": [
    "%sql\n",
    "CREATE WIDGET MULTISELECT D_NO DEFAULT \"10\" CHOICES SELECT  distinct DEPTNO FROM global_temp.emp_csv\n",
    "--SELECT DISTINCT DEPTNO FROM global_temp.emp_csv\n"
   ]
  },
  {
   "cell_type": "code",
   "execution_count": 0,
   "metadata": {
    "application/vnd.databricks.v1+cell": {
     "cellMetadata": {},
     "inputWidgets": {},
     "nuid": "08090af8-ecc7-428d-8937-8a27cfd6c887",
     "showTitle": false,
     "title": ""
    }
   },
   "outputs": [],
   "source": [
    "%sql\n",
    "select getArgument(\"D_NO\")"
   ]
  },
  {
   "cell_type": "code",
   "execution_count": 0,
   "metadata": {
    "application/vnd.databricks.v1+cell": {
     "cellMetadata": {},
     "inputWidgets": {},
     "nuid": "f8240e94-0a02-4132-86cc-70db70a2e041",
     "showTitle": false,
     "title": ""
    }
   },
   "outputs": [],
   "source": [
    "%sql \n",
    "select  * from global_temp.emp_csv where deptno in (getArgument(\"D_NO\")) ;"
   ]
  }
 ],
 "metadata": {
  "application/vnd.databricks.v1+notebook": {
   "dashboards": [],
   "language": "python",
   "notebookMetadata": {
    "mostRecentlyExecutedCommandWithImplicitDF": {
     "commandId": 4095770178280765,
     "dataframes": [
      "_sqldf"
     ]
    },
    "pythonIndentUnit": 2
   },
   "notebookName": "1.Databricks_WIDGETS",
   "widgets": {
    "customer_name": {
     "currentValue": "1234",
     "nuid": "c5398cca-6f08-4846-9119-c1e0ca648c27",
     "typedWidgetInfo": null,
     "widgetInfo": {
      "widgetType": "text",
      "defaultValue": "ravi",
      "label": null,
      "name": "customer_name",
      "options": {
       "widgetType": "text",
       "autoCreated": null,
       "validationRegex": null
      }
     }
    },
    "customer_name_combo": {
     "currentValue": "Vikranth",
     "nuid": "8d929d0b-f3ec-46ca-b726-ea647bac55d5",
     "typedWidgetInfo": null,
     "widgetInfo": {
      "widgetType": "combobox",
      "defaultValue": "Ravi",
      "label": null,
      "name": "customer_name_combo",
      "options": {
       "widgetType": "dropdown",
       "autoCreated": null,
       "choices": [
        "Ram",
        "Vikranth",
        "Reshwanth",
        "Ravi"
       ]
      }
     }
    },
    "customer_name_dropdown": {
     "currentValue": "Ram",
     "nuid": "5a8aa0e7-5de1-450a-b200-3e6347097ecb",
     "typedWidgetInfo": null,
     "widgetInfo": {
      "widgetType": "dropdown",
      "defaultValue": "Ravi",
      "label": null,
      "name": "customer_name_dropdown",
      "options": {
       "widgetType": "dropdown",
       "autoCreated": null,
       "choices": [
        "Ram",
        "Vikranth",
        "Reshwanth",
        "Ravi"
       ]
      }
     }
    },
    "customer_name_multi": {
     "currentValue": "Vikranth,Reshwanth",
     "nuid": "a9dd6c73-d3ba-4027-a611-01a8c6732729",
     "typedWidgetInfo": null,
     "widgetInfo": {
      "widgetType": "multiselect",
      "defaultValue": "Ravi",
      "label": null,
      "name": "customer_name_multi",
      "options": {
       "widgetType": "dropdown",
       "autoCreated": null,
       "choices": [
        "Ram",
        "Vikranth",
        "Reshwanth",
        "Ravi"
       ]
      }
     }
    }
   }
  },
  "name": "Variables",
  "notebookId": 3451065918496150
 },
 "nbformat": 4,
 "nbformat_minor": 0
}
